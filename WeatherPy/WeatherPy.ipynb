{
 "cells": [
  {
   "cell_type": "markdown",
   "metadata": {},
   "source": [
    "# WeatherPy\n",
    "----\n",
    "\n",
    "#### Note\n",
    "* Instructions have been included for each segment. You do not have to follow them exactly, but they are included to help you think through the steps."
   ]
  },
  {
   "cell_type": "code",
   "execution_count": 2,
   "metadata": {
    "scrolled": true
   },
   "outputs": [],
   "source": [
    "# Dependencies and Setup\n",
    "import matplotlib.pyplot as plt\n",
    "import pandas as pd\n",
    "import numpy as np\n",
    "import requests\n",
    "import time\n",
    "from scipy.stats import linregress\n",
    "from pprint import pprint\n",
    "import json\n",
    "\n",
    "# Import API key\n",
    "from config import weather_api_key\n",
    "\n",
    "# Incorporated citipy to determine city based on latitude and longitude\n",
    "from citipy import citipy\n",
    "\n",
    "# Output File (CSV)\n",
    "output_data_file = \"output_data/cities.csv\"\n",
    "\n",
    "# Range of latitudes and longitudes\n",
    "lat_range = (-90, 90)\n",
    "lng_range = (-180, 180)"
   ]
  },
  {
   "cell_type": "markdown",
   "metadata": {},
   "source": [
    "## Generate Cities List"
   ]
  },
  {
   "cell_type": "code",
   "execution_count": 3,
   "metadata": {},
   "outputs": [
    {
     "data": {
      "text/plain": [
       "614"
      ]
     },
     "execution_count": 3,
     "metadata": {},
     "output_type": "execute_result"
    }
   ],
   "source": [
    "# List for holding lat_lngs and cities\n",
    "lat_lngs = []\n",
    "cities = []\n",
    "\n",
    "# Create a set of random lat and lng combinations\n",
    "lats = np.random.uniform(lat_range[0], lat_range[1], size=1500)\n",
    "lngs = np.random.uniform(lng_range[0], lng_range[1], size=1500)\n",
    "lat_lngs = zip(lats, lngs)\n",
    "\n",
    "# Identify nearest city for each lat, lng combination\n",
    "for lat_lng in lat_lngs:\n",
    "    city = citipy.nearest_city(lat_lng[0], lat_lng[1]).city_name\n",
    "    \n",
    "    # If the city is unique, then add it to a our cities list\n",
    "    if city not in cities:\n",
    "        cities.append(city)\n",
    "\n",
    "# Print the city count to confirm sufficient count\n",
    "len(cities)"
   ]
  },
  {
   "cell_type": "markdown",
   "metadata": {},
   "source": [
    "### Perform API Calls\n",
    "* Perform a weather check on each city using a series of successive API calls.\n",
    "* Include a print log of each city as it'sbeing processed (with the city number and city name).\n"
   ]
  },
  {
   "cell_type": "code",
   "execution_count": 4,
   "metadata": {},
   "outputs": [],
   "source": [
    "#config information\n",
    "url = \"http://api.openweathermap.org/data/2.5/weather?\"\n",
    "units = \"metric\"\n",
    "\n",
    "#query URL\n",
    "query_url = f\"{url}appid={weather_api_key}&units={units}&q=\"\n"
   ]
  },
  {
   "cell_type": "code",
   "execution_count": 10,
   "metadata": {
    "scrolled": true
   },
   "outputs": [
    {
     "name": "stdout",
     "output_type": "stream",
     "text": [
      "Beginning Data Retrieval\n",
      "--------------------------\n",
      "City not found\n",
      "City not found\n",
      "City not found\n",
      "City not found\n",
      "City not found\n",
      "City not found\n",
      "City not found\n",
      "City not found\n",
      "City not found\n",
      "City not found\n",
      "City not found\n",
      "City not found\n",
      "City not found\n",
      "City not found\n",
      "City not found\n",
      "City not found\n",
      "City not found\n",
      "City not found\n",
      "City not found\n",
      "City not found\n",
      "City not found\n",
      "City not found\n",
      "City not found\n",
      "City not found\n",
      "City not found\n",
      "City not found\n",
      "City not found\n",
      "City not found\n",
      "City not found\n",
      "City not found\n",
      "City not found\n",
      "City not found\n",
      "City not found\n",
      "City not found\n",
      "City not found\n",
      "City not found\n",
      "City not found\n",
      "City not found\n",
      "City not found\n",
      "City not found\n",
      "City not found\n",
      "City not found\n",
      "City not found\n",
      "City not found\n",
      "City not found\n",
      "City not found\n",
      "City not found\n",
      "------------------------\n",
      "Data Retrieval Complete\n",
      "------------------------\n"
     ]
    }
   ],
   "source": [
    "print(f'Beginning Data Retrieval')\n",
    "print(f'--------------------------')\n",
    "\n",
    "#creating counters for each column in new dataframes\n",
    "city_names = []\n",
    "lat_list = []\n",
    "lng_list = []\n",
    "max_temp = []\n",
    "humidity = []\n",
    "cloudiness = []\n",
    "wind_speed = []\n",
    "country = []\n",
    "date = []\n",
    "\n",
    "#weather check on each city using API calls\n",
    "for city in cities:\n",
    "    try:\n",
    "        response = requests.get(query_url + city).json()\n",
    "        time.sleep(1)\n",
    "            #pprint(response)\n",
    "        city_names.append(response['name'])\n",
    "        lat_list.append(response['coord']['lat'])\n",
    "        lng_list.append(response['coord']['lon'])\n",
    "        max_temp.append(response['main']['temp_max'])\n",
    "        humidity.append(response['main']['humidity'])\n",
    "        cloudiness.append(response['clouds']['all'])\n",
    "        wind_speed.append(response['wind']['speed'])\n",
    "        country.append(response['sys']['country'])\n",
    "        date.append(response['dt'])\n",
    "    except(KeyError):\n",
    "        print(\"City not found\")\n",
    "print(f'------------------------')\n",
    "print(f'Data Retrieval Complete')\n",
    "print(f'------------------------')"
   ]
  },
  {
   "cell_type": "markdown",
   "metadata": {},
   "source": [
    "### Convert Raw Data to DataFrame\n",
    "* Export the city data into a .csv.\n",
    "* Display the DataFrame"
   ]
  },
  {
   "cell_type": "code",
   "execution_count": 16,
   "metadata": {},
   "outputs": [
    {
     "data": {
      "text/html": [
       "<div>\n",
       "<style scoped>\n",
       "    .dataframe tbody tr th:only-of-type {\n",
       "        vertical-align: middle;\n",
       "    }\n",
       "\n",
       "    .dataframe tbody tr th {\n",
       "        vertical-align: top;\n",
       "    }\n",
       "\n",
       "    .dataframe thead th {\n",
       "        text-align: right;\n",
       "    }\n",
       "</style>\n",
       "<table border=\"1\" class=\"dataframe\">\n",
       "  <thead>\n",
       "    <tr style=\"text-align: right;\">\n",
       "      <th></th>\n",
       "      <th>City</th>\n",
       "      <th>Lat</th>\n",
       "      <th>Lng</th>\n",
       "      <th>Max Temp</th>\n",
       "      <th>Humidity</th>\n",
       "      <th>Cloudiness</th>\n",
       "      <th>Wind Speed</th>\n",
       "      <th>Country</th>\n",
       "      <th>Date</th>\n",
       "    </tr>\n",
       "  </thead>\n",
       "  <tbody>\n",
       "    <tr>\n",
       "      <th>0</th>\n",
       "      <td>Longyearbyen</td>\n",
       "      <td>78.22</td>\n",
       "      <td>15.64</td>\n",
       "      <td>-5.00</td>\n",
       "      <td>73</td>\n",
       "      <td>20</td>\n",
       "      <td>3.60</td>\n",
       "      <td>SJ</td>\n",
       "      <td>1603376742</td>\n",
       "    </tr>\n",
       "    <tr>\n",
       "      <th>1</th>\n",
       "      <td>Iqaluit</td>\n",
       "      <td>63.75</td>\n",
       "      <td>-68.51</td>\n",
       "      <td>-2.00</td>\n",
       "      <td>79</td>\n",
       "      <td>75</td>\n",
       "      <td>3.50</td>\n",
       "      <td>CA</td>\n",
       "      <td>1603376743</td>\n",
       "    </tr>\n",
       "    <tr>\n",
       "      <th>2</th>\n",
       "      <td>Busselton</td>\n",
       "      <td>-33.65</td>\n",
       "      <td>115.33</td>\n",
       "      <td>11.11</td>\n",
       "      <td>83</td>\n",
       "      <td>0</td>\n",
       "      <td>6.51</td>\n",
       "      <td>AU</td>\n",
       "      <td>1603376668</td>\n",
       "    </tr>\n",
       "    <tr>\n",
       "      <th>3</th>\n",
       "      <td>Weligama</td>\n",
       "      <td>5.97</td>\n",
       "      <td>80.42</td>\n",
       "      <td>26.76</td>\n",
       "      <td>83</td>\n",
       "      <td>34</td>\n",
       "      <td>4.14</td>\n",
       "      <td>LK</td>\n",
       "      <td>1603376669</td>\n",
       "    </tr>\n",
       "    <tr>\n",
       "      <th>4</th>\n",
       "      <td>Yellowknife</td>\n",
       "      <td>62.46</td>\n",
       "      <td>-114.35</td>\n",
       "      <td>-5.00</td>\n",
       "      <td>85</td>\n",
       "      <td>90</td>\n",
       "      <td>3.60</td>\n",
       "      <td>CA</td>\n",
       "      <td>1603376460</td>\n",
       "    </tr>\n",
       "    <tr>\n",
       "      <th>...</th>\n",
       "      <td>...</td>\n",
       "      <td>...</td>\n",
       "      <td>...</td>\n",
       "      <td>...</td>\n",
       "      <td>...</td>\n",
       "      <td>...</td>\n",
       "      <td>...</td>\n",
       "      <td>...</td>\n",
       "      <td>...</td>\n",
       "    </tr>\n",
       "    <tr>\n",
       "      <th>562</th>\n",
       "      <td>Ulety</td>\n",
       "      <td>51.36</td>\n",
       "      <td>112.48</td>\n",
       "      <td>-1.41</td>\n",
       "      <td>94</td>\n",
       "      <td>0</td>\n",
       "      <td>0.92</td>\n",
       "      <td>RU</td>\n",
       "      <td>1603377682</td>\n",
       "    </tr>\n",
       "    <tr>\n",
       "      <th>563</th>\n",
       "      <td>Arrondissement de Beauvais</td>\n",
       "      <td>49.42</td>\n",
       "      <td>2.00</td>\n",
       "      <td>19.00</td>\n",
       "      <td>77</td>\n",
       "      <td>75</td>\n",
       "      <td>5.70</td>\n",
       "      <td>FR</td>\n",
       "      <td>1603377683</td>\n",
       "    </tr>\n",
       "    <tr>\n",
       "      <th>564</th>\n",
       "      <td>Gazli</td>\n",
       "      <td>40.13</td>\n",
       "      <td>63.45</td>\n",
       "      <td>10.93</td>\n",
       "      <td>50</td>\n",
       "      <td>100</td>\n",
       "      <td>3.73</td>\n",
       "      <td>UZ</td>\n",
       "      <td>1603377685</td>\n",
       "    </tr>\n",
       "    <tr>\n",
       "      <th>565</th>\n",
       "      <td>Vila</td>\n",
       "      <td>42.03</td>\n",
       "      <td>-8.16</td>\n",
       "      <td>14.44</td>\n",
       "      <td>82</td>\n",
       "      <td>47</td>\n",
       "      <td>3.13</td>\n",
       "      <td>PT</td>\n",
       "      <td>1603377686</td>\n",
       "    </tr>\n",
       "    <tr>\n",
       "      <th>566</th>\n",
       "      <td>Sapucaia</td>\n",
       "      <td>-29.83</td>\n",
       "      <td>-51.15</td>\n",
       "      <td>27.22</td>\n",
       "      <td>61</td>\n",
       "      <td>75</td>\n",
       "      <td>10.80</td>\n",
       "      <td>BR</td>\n",
       "      <td>1603377687</td>\n",
       "    </tr>\n",
       "  </tbody>\n",
       "</table>\n",
       "<p>567 rows × 9 columns</p>\n",
       "</div>"
      ],
      "text/plain": [
       "                           City    Lat     Lng  Max Temp  Humidity  \\\n",
       "0                  Longyearbyen  78.22   15.64     -5.00        73   \n",
       "1                       Iqaluit  63.75  -68.51     -2.00        79   \n",
       "2                     Busselton -33.65  115.33     11.11        83   \n",
       "3                      Weligama   5.97   80.42     26.76        83   \n",
       "4                   Yellowknife  62.46 -114.35     -5.00        85   \n",
       "..                          ...    ...     ...       ...       ...   \n",
       "562                       Ulety  51.36  112.48     -1.41        94   \n",
       "563  Arrondissement de Beauvais  49.42    2.00     19.00        77   \n",
       "564                       Gazli  40.13   63.45     10.93        50   \n",
       "565                        Vila  42.03   -8.16     14.44        82   \n",
       "566                    Sapucaia -29.83  -51.15     27.22        61   \n",
       "\n",
       "     Cloudiness  Wind Speed Country        Date  \n",
       "0            20        3.60      SJ  1603376742  \n",
       "1            75        3.50      CA  1603376743  \n",
       "2             0        6.51      AU  1603376668  \n",
       "3            34        4.14      LK  1603376669  \n",
       "4            90        3.60      CA  1603376460  \n",
       "..          ...         ...     ...         ...  \n",
       "562           0        0.92      RU  1603377682  \n",
       "563          75        5.70      FR  1603377683  \n",
       "564         100        3.73      UZ  1603377685  \n",
       "565          47        3.13      PT  1603377686  \n",
       "566          75       10.80      BR  1603377687  \n",
       "\n",
       "[567 rows x 9 columns]"
      ]
     },
     "execution_count": 16,
     "metadata": {},
     "output_type": "execute_result"
    }
   ],
   "source": [
    "#dataframe for above information\n",
    "weather_df = pd.DataFrame({\"City\": city_names,\n",
    "                          \"Lat\": lat_list,\n",
    "                          \"Lng\": lng_list,\n",
    "                          \"Max Temp\": max_temp,\n",
    "                          \"Humidity\": humidity,\n",
    "                          \"Cloudiness\": cloudiness,\n",
    "                          \"Wind Speed\": wind_speed,\n",
    "                          \"Country\": country,\n",
    "                          \"Date\": date})\n",
    "\n",
    "#test run to reveal there are 566 cities in the dataframe\n",
    "weather_df"
   ]
  },
  {
   "cell_type": "code",
   "execution_count": 18,
   "metadata": {},
   "outputs": [],
   "source": [
    "#exporting the above dataframe into a csv file\n",
    "weather_df.to_csv(\"output_data/cities.csv\")"
   ]
  },
  {
   "cell_type": "markdown",
   "metadata": {},
   "source": [
    "## Inspect the data and remove the cities where the humidity > 100%.\n",
    "----\n",
    "Skip this step if there are no cities that have humidity > 100%. "
   ]
  },
  {
   "cell_type": "code",
   "execution_count": 35,
   "metadata": {},
   "outputs": [
    {
     "data": {
      "text/plain": [
       "array([ 73,  79,  83,  83,  85, 100,  72,  85,  56,  73,  59,  82,  83,\n",
       "        62,  96,  77, 100,  25,  86,  83,  72,  87,  83,  77,  95,  97,\n",
       "        65,  76,  70,  79,  77,  54,   9,  72,  30,  73,  12,  24,  88,\n",
       "        80,  20,  48,  78,  81,  82,  96,  67,  39,  91,  84,  69,  94,\n",
       "        65,  52,  71,  69,  67,  63,  85, 100,  73,  65,  75,  79,  74,\n",
       "        77,  93,  15,  64,  96,  91,  20,  90,  50,  95,  86,  93,  84,\n",
       "        69,  95,  93,  95,  60,  88,  69,  56,  80,   8,  36,  93,  66,\n",
       "        90,  75,  41,  32,  61,  92,  73,  94,  74,  73,  68,  76,  81,\n",
       "        62,  78,  66,  92,  81,  64,  96,  81,  79,  80,  82,  25,  61,\n",
       "        93,  94,  75,  34,  80,  85,  66,  81,  92,  49,  77,  85,  87,\n",
       "        70,  71,  70,  79,  90,  94,  86,  66,  87,  92,  76,  84,  58,\n",
       "        94,  66,  44,  66,  96,  78,  74,  77,  71,  67,  94,  80,  93,\n",
       "        65,  84,  65,  34,  73,  85,  50,  88,  75,  27,  81,  68,  83,\n",
       "        73,  91,  76,  64,  40,  82,  92,  86,  74,  87,  72,  47,  75,\n",
       "        76,  77,  78,  19,  74,  39,  17,   8,  72,  62,  93,  68,  35,\n",
       "        83,  80,  28,  76,  78,  95,  89,  88,  78,  93, 100,  67,  67,\n",
       "        84,  93,  97,  85, 100,  91,  77,  58,   9,  91,  92,  74,  79,\n",
       "        85,  78,  70,  56,  79,  93,  44,  41,  85,  20,  89,  71,  83,\n",
       "       100,  24,  83,  95,  68, 100,  86,  82,  75,  63,  82,  76,  96,\n",
       "        92,  92,  93,  74,  69,  93,  66,  60,  73,  43,  75,  90,  84,\n",
       "        82,  79,  76,  85,  88,  78,  81,  81,  49,  54,  89,  42,  73,\n",
       "        78,  94,  94,  74,  76,  44,  62,  97,  67,  53,  88,  89,  75,\n",
       "        84,  86,  93,  45,  90,  74,  80,  83,  85,   8,  10,  73,  38,\n",
       "        72,  68,  90,  10,  82, 100,  97,  92,  60,  53, 100,  44,  68,\n",
       "        79,  96,  87,  78,  65, 100,  77,  74,  86,  65,  77,  94,  30,\n",
       "        94,  83,  88,  59, 100,  78,  39,  20,  60,  77,  48, 100,  96,\n",
       "        81,  47,  87,  54,  85,  68,  86,  84,  85,  99,  85,  67,  45,\n",
       "        43,  65,  66,  81,  70,  74,  83,  45,  49,  69,  78,  50,  32,\n",
       "        36,  77,  31,  72,  81,  95,  58,  93, 100, 100,  79,  88,  88,\n",
       "        65,  94, 100,  94,  25,  56,  76,  71,  73,  88,  87,  74,  28,\n",
       "        49,  57,  73,  83,  79,  12,  94,  70,  86,  98,  68,  78,  30,\n",
       "        76,  93,  48,  74,  70,  91,  71,  85,  94,  34,  10,  88,  45,\n",
       "        60,  95, 100, 100,  93,  53,  94,  12,  53,  91,  62,  94,  48,\n",
       "        78,  30,   8,  91,  73,  12,  63,  59,  52,  97,  88,  94,  91,\n",
       "        94,  66,  83,  94,  93,  70,  93,  83,  92,  64,  74,  96,  79,\n",
       "        72, 100,  94,  46,  83,  63,  72,  57,  15,  86,  33,  93,  36,\n",
       "        71,  83,  80,  97,  34,  84,  78, 100,  90,   7,  76,  91,  73,\n",
       "        77,  58,  87,  82,  80,  55,  77,  93,  44,  82,  66,  87,  76,\n",
       "         8,  87,  88,  93,  49,  92,  81,  80,  79,  65,  70,  47,  12,\n",
       "        85,  53, 100,  21,  96,  66,  22,  57,  52,  97,   9,  85,  10,\n",
       "        66,  94,  79,  88,  95,  82,  79,   9,  63,  69,  74,  92,  71,\n",
       "        38,  32,  87,  72,  85,  74,  88,  77,  69,  90,  86,  75,  30,\n",
       "       100,  59, 100,  83,  22,  86,  78,  51,  92,  11,  78,  73,  76,\n",
       "        82,  17,  74,  94,  77,  50,  82,  61])"
      ]
     },
     "execution_count": 35,
     "metadata": {},
     "output_type": "execute_result"
    }
   ],
   "source": [
    "#  Get the indices of cities that have humidity over 100%.\n",
    "#no humidity over 100 - skipping step\n",
    "weather_df.Humidity.values"
   ]
  },
  {
   "cell_type": "markdown",
   "metadata": {},
   "source": [
    "## Plotting the Data\n",
    "* Use proper labeling of the plots using plot titles (including date of analysis) and axes labels.\n",
    "* Save the plotted figures as .pngs."
   ]
  },
  {
   "cell_type": "markdown",
   "metadata": {},
   "source": [
    "## Latitude vs. Temperature Plot"
   ]
  },
  {
   "cell_type": "code",
   "execution_count": 41,
   "metadata": {
    "scrolled": true
   },
   "outputs": [
    {
     "data": {
      "image/png": "[encoded data removed]",
      "text/plain": [
       "<Figure size 432x288 with 1 Axes>"
      ]
     },
     "metadata": {
      "needs_background": "light"
     },
     "output_type": "display_data"
    }
   ],
   "source": [
    "#scatter plot for latitude vs. temp\n",
    "plt.scatter(weather_df['Lat'], weather_df['Max Temp'])\n",
    "\n",
    "#set lables\n",
    "plt.title(\"City Latitudes vs. Max Temperatures 10/22/2020\")\n",
    "plt.xlabel(\"Latitude\")\n",
    "plt.ylabel(\"Max Temperature (C)\")\n",
    "plt.grid()\n",
    "\n",
    "#saving into a png file\n",
    "plt.savefig(\"output_data/png files/City Lat vs. Max Temp.png\")"
   ]
  },
  {
   "cell_type": "markdown",
   "metadata": {},
   "source": [
    "## Latitude vs. Humidity Plot"
   ]
  },
  {
   "cell_type": "code",
   "execution_count": 43,
   "metadata": {},
   "outputs": [
    {
     "data": {
      "image/png": "[encoded data removed]",
      "text/plain": [
       "<Figure size 432x288 with 1 Axes>"
      ]
     },
     "metadata": {
      "needs_background": "light"
     },
     "output_type": "display_data"
    }
   ],
   "source": [
    "#scatter plot for latitude vs. humidity\n",
    "plt.scatter(weather_df['Lat'], weather_df['Humidity'])\n",
    "\n",
    "#set lables\n",
    "plt.title(\"City Latitudes vs. Humidity Percentages 10/22/2020\")\n",
    "plt.xlabel(\"Latitude\")\n",
    "plt.ylabel(\"Humidity %\")\n",
    "plt.grid()\n",
    "\n",
    "#saving into a png file\n",
    "plt.savefig(\"output_data/png files/City Lat vs. Humidity.png\")"
   ]
  },
  {
   "cell_type": "markdown",
   "metadata": {},
   "source": [
    "## Latitude vs. Cloudiness Plot"
   ]
  },
  {
   "cell_type": "code",
   "execution_count": 45,
   "metadata": {},
   "outputs": [
    {
     "data": {
      "image/png": "[encoded data removed]",
      "text/plain": [
       "<Figure size 432x288 with 1 Axes>"
      ]
     },
     "metadata": {
      "needs_background": "light"
     },
     "output_type": "display_data"
    }
   ],
   "source": [
    "#scatter plot for latitude vs. humidity\n",
    "plt.scatter(weather_df['Lat'], weather_df['Cloudiness'])\n",
    "\n",
    "#set lables\n",
    "plt.title(\"City Latitudes vs. Cloudiness 10/22/2020\")\n",
    "plt.xlabel(\"Latitude\")\n",
    "plt.ylabel(\"Cloudiness %\")\n",
    "plt.grid()\n",
    "\n",
    "#saving into a png file\n",
    "plt.savefig(\"output_data/png files/City Lat vs. Cloudiness.png\")"
   ]
  },
  {
   "cell_type": "markdown",
   "metadata": {},
   "source": [
    "## Latitude vs. Wind Speed Plot"
   ]
  },
  {
   "cell_type": "code",
   "execution_count": 48,
   "metadata": {},
   "outputs": [
    {
     "data": {
      "image/png": "[encoded data removed]",
      "text/plain": [
       "<Figure size 432x288 with 1 Axes>"
      ]
     },
     "metadata": {
      "needs_background": "light"
     },
     "output_type": "display_data"
    }
   ],
   "source": [
    "#scatter plot for latitude vs. humidity\n",
    "plt.scatter(weather_df['Lat'], weather_df['Wind Speed'])\n",
    "\n",
    "#set lables\n",
    "plt.title(\"City Latitudes vs. Wind Speed 10/22/2020\")\n",
    "plt.xlabel(\"Latitude\")\n",
    "plt.ylabel(\"Wind Speed (m/s)\")\n",
    "plt.grid()\n",
    "\n",
    "#saving into a png file\n",
    "plt.savefig(\"output_data/png files/City Lat vs. Wind Speed.png\")"
   ]
  },
  {
   "cell_type": "markdown",
   "metadata": {},
   "source": [
    "## Linear Regression"
   ]
  },
  {
   "cell_type": "code",
   "execution_count": null,
   "metadata": {},
   "outputs": [],
   "source": []
  },
  {
   "cell_type": "markdown",
   "metadata": {},
   "source": [
    "####  Northern Hemisphere - Max Temp vs. Latitude Linear Regression"
   ]
  },
  {
   "cell_type": "code",
   "execution_count": null,
   "metadata": {},
   "outputs": [],
   "source": []
  },
  {
   "cell_type": "markdown",
   "metadata": {},
   "source": [
    "####  Southern Hemisphere - Max Temp vs. Latitude Linear Regression"
   ]
  },
  {
   "cell_type": "code",
   "execution_count": null,
   "metadata": {},
   "outputs": [],
   "source": []
  },
  {
   "cell_type": "markdown",
   "metadata": {},
   "source": [
    "####  Northern Hemisphere - Humidity (%) vs. Latitude Linear Regression"
   ]
  },
  {
   "cell_type": "code",
   "execution_count": null,
   "metadata": {},
   "outputs": [],
   "source": []
  },
  {
   "cell_type": "markdown",
   "metadata": {},
   "source": [
    "####  Southern Hemisphere - Humidity (%) vs. Latitude Linear Regression"
   ]
  },
  {
   "cell_type": "code",
   "execution_count": null,
   "metadata": {},
   "outputs": [],
   "source": []
  },
  {
   "cell_type": "markdown",
   "metadata": {},
   "source": [
    "####  Northern Hemisphere - Cloudiness (%) vs. Latitude Linear Regression"
   ]
  },
  {
   "cell_type": "code",
   "execution_count": null,
   "metadata": {},
   "outputs": [],
   "source": []
  },
  {
   "cell_type": "markdown",
   "metadata": {},
   "source": [
    "####  Southern Hemisphere - Cloudiness (%) vs. Latitude Linear Regression"
   ]
  },
  {
   "cell_type": "code",
   "execution_count": null,
   "metadata": {},
   "outputs": [],
   "source": []
  },
  {
   "cell_type": "markdown",
   "metadata": {},
   "source": [
    "####  Northern Hemisphere - Wind Speed (mph) vs. Latitude Linear Regression"
   ]
  },
  {
   "cell_type": "code",
   "execution_count": null,
   "metadata": {},
   "outputs": [],
   "source": []
  },
  {
   "cell_type": "markdown",
   "metadata": {},
   "source": [
    "####  Southern Hemisphere - Wind Speed (mph) vs. Latitude Linear Regression"
   ]
  },
  {
   "cell_type": "code",
   "execution_count": null,
   "metadata": {},
   "outputs": [],
   "source": []
  },
  {
   "cell_type": "code",
   "execution_count": null,
   "metadata": {},
   "outputs": [],
   "source": []
  }
 ],
 "metadata": {
  "anaconda-cloud": {},
  "kernel_info": {
   "name": "python3"
  },
  "kernelspec": {
   "display_name": "Python [conda env:PythonData] *",
   "language": "python",
   "name": "conda-env-PythonData-py"
  },
  "language_info": {
   "codemirror_mode": {
    "name": "ipython",
    "version": 3
   },
   "file_extension": ".py",
   "mimetype": "text/x-python",
   "name": "python",
   "nbconvert_exporter": "python",
   "pygments_lexer": "ipython3",
   "version": "3.8.5"
  },
  "latex_envs": {
   "LaTeX_envs_menu_present": true,
   "autoclose": false,
   "autocomplete": true,
   "bibliofile": "biblio.bib",
   "cite_by": "apalike",
   "current_citInitial": 1,
   "eqLabelWithNumbers": true,
   "eqNumInitial": 1,
   "hotkeys": {
    "equation": "Ctrl-E",
    "itemize": "Ctrl-I"
   },
   "labels_anchors": false,
   "latex_user_defs": false,
   "report_style_numbering": false,
   "user_envs_cfg": false
  },
  "nteract": {
   "version": "0.12.3"
  }
 },
 "nbformat": 4,
 "nbformat_minor": 2
}
